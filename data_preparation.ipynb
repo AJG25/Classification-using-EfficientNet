{
 "cells": [
  {
   "cell_type": "code",
   "execution_count": 1,
   "id": "643f72e7",
   "metadata": {},
   "outputs": [],
   "source": [
    "import pandas as pd\n",
    "import numpy as np\n",
    "class_names = np.load(\"class_names.npy\", allow_pickle=True).item()\n",
    "class_attributes = np.load(\"attributes.npy\")\n",
    "class_labels = list(class_names.values())\n",
    "df = pd.read_csv('train_images.csv')\n",
    "df['attributes'] = df['label'].apply(lambda x: class_attributes[class_labels.index(x)])\n",
    "df['image_path'] = df['image_path'].str.lstrip('/')"
   ]
  },
  {
   "cell_type": "code",
   "execution_count": 2,
   "id": "3863ae09",
   "metadata": {},
   "outputs": [],
   "source": [
    "from PIL import Image, ImageOps\n",
    "\n",
    "def preprocess_image(image_path):\n",
    "    image = Image.open(image_path)\n",
    "    padded_image = ImageOps.pad(image, (500, 500), color='black')\n",
    "    resized_image = padded_image.resize((250, 250), Image.LANCZOS)\n",
    "#     return resized_image\n",
    "    image_array = np.array(resized_image) / 255.0  # Normalize pixel values to [0, 1]\n",
    "    if image_array.shape == (250, 250, 3):\n",
    "        return image_array\n",
    "    else:\n",
    "        return 'error'\n",
    "#         return np.zeros((250, 250, 3))  # Return a blank image if the shape is incorrect\n"
   ]
  },
  {
   "cell_type": "code",
   "execution_count": 3,
   "id": "a100c5c7",
   "metadata": {},
   "outputs": [],
   "source": [
    "df['processed_image'] = df['image_path'].apply(preprocess_image)\n"
   ]
  },
  {
   "cell_type": "code",
   "execution_count": 4,
   "id": "651a3875",
   "metadata": {},
   "outputs": [
    {
     "name": "stdout",
     "output_type": "stream",
     "text": [
      "                 image_path  label  \\\n",
      "255    train_images/256.jpg      9   \n",
      "740    train_images/741.jpg     25   \n",
      "1825  train_images/1826.jpg     63   \n",
      "1835  train_images/1836.jpg     63   \n",
      "2818  train_images/2819.jpg    108   \n",
      "\n",
      "                                             attributes processed_image  \n",
      "255   [0.004741491045300055, 0.0, 0.0094829820905760...           error  \n",
      "740   [0.01095033675287154, 0.014600449003846848, 0....           error  \n",
      "1825  [0.013956050085295966, 0.1011813631185804, 0.0...           error  \n",
      "1835  [0.013956050085295966, 0.1011813631185804, 0.0...           error  \n",
      "2818  [0.0, 0.01547173546312857, 0.0, 0.0, 0.0, 0.0,...           error  \n"
     ]
    }
   ],
   "source": [
    "# Check if any entries in the 'processed_image' column are string (find 'error')\n",
    "errors = df[df['processed_image'].apply(lambda x: isinstance(x, str))]\n",
    "\n",
    "print(errors)\n"
   ]
  },
  {
   "cell_type": "code",
   "execution_count": 5,
   "id": "baa3dee4",
   "metadata": {},
   "outputs": [
    {
     "name": "stdout",
     "output_type": "stream",
     "text": [
      "           image_path  label  \\\n",
      "0  train_images/1.jpg      1   \n",
      "1  train_images/2.jpg      1   \n",
      "2  train_images/3.jpg      1   \n",
      "3  train_images/4.jpg      1   \n",
      "4  train_images/5.jpg      1   \n",
      "\n",
      "                                          attributes  \\\n",
      "0  [0.010638400403539122, 0.010638400403539122, 0...   \n",
      "1  [0.010638400403539122, 0.010638400403539122, 0...   \n",
      "2  [0.010638400403539122, 0.010638400403539122, 0...   \n",
      "3  [0.010638400403539122, 0.010638400403539122, 0...   \n",
      "4  [0.010638400403539122, 0.010638400403539122, 0...   \n",
      "\n",
      "                                     processed_image  \n",
      "0  [[[0.0, 0.0, 0.0], [0.0, 0.0, 0.0], [0.0, 0.0,...  \n",
      "1  [[[0.0, 0.0, 0.0], [0.0, 0.0, 0.0], [0.0, 0.0,...  \n",
      "2  [[[0.0, 0.0, 0.0], [0.0, 0.0, 0.0], [0.0, 0.0,...  \n",
      "3  [[[0.0, 0.0, 0.0], [0.0, 0.0, 0.0], [0.0, 0.0,...  \n",
      "4  [[[0.0, 0.0, 0.0], [0.0, 0.0, 0.0], [0.0, 0.0,...  \n"
     ]
    }
   ],
   "source": [
    "# Remove rows where 'processed_image' column contains 'error'\n",
    "df = df[df['processed_image'].apply(lambda x: not isinstance(x, str))]\n"
   ]
  },
  {
   "cell_type": "code",
   "execution_count": 6,
   "id": "ca633d78",
   "metadata": {},
   "outputs": [
    {
     "data": {
      "text/plain": [
       "label\n",
       "1      35\n",
       "2      35\n",
       "4      35\n",
       "10     34\n",
       "16     33\n",
       "       ..\n",
       "196     6\n",
       "197     5\n",
       "198     5\n",
       "199     5\n",
       "200     5\n",
       "Name: count, Length: 200, dtype: int64"
      ]
     },
     "execution_count": 6,
     "metadata": {},
     "output_type": "execute_result"
    }
   ],
   "source": [
    "# class imbalance\n",
    "df['label'].value_counts()"
   ]
  },
  {
   "cell_type": "code",
   "execution_count": 7,
   "id": "4ade27e9",
   "metadata": {},
   "outputs": [
    {
     "data": {
      "text/plain": [
       "True"
      ]
     },
     "execution_count": 7,
     "metadata": {},
     "output_type": "execute_result"
    }
   ],
   "source": [
    "df['processed_image'].apply(lambda x: x.shape).nunique() == 1"
   ]
  },
  {
   "cell_type": "code",
   "execution_count": 8,
   "id": "0f03479a",
   "metadata": {},
   "outputs": [
    {
     "name": "stdout",
     "output_type": "stream",
     "text": [
      "label\n",
      "1      35\n",
      "138    35\n",
      "128    35\n",
      "129    35\n",
      "130    35\n",
      "       ..\n",
      "70     35\n",
      "71     35\n",
      "72     35\n",
      "73     35\n",
      "200    35\n",
      "Name: count, Length: 200, dtype: int64\n"
     ]
    }
   ],
   "source": [
    "import pandas as pd\n",
    "import numpy as np\n",
    "from tensorflow.keras.preprocessing.image import ImageDataGenerator\n",
    "\n",
    "# get underrepresented classes\n",
    "class_counts = df['label'].value_counts()\n",
    "underrepresented_classes = class_counts[class_counts < 35].index\n",
    "\n",
    "# Data augmentation\n",
    "datagen = ImageDataGenerator(\n",
    "    rotation_range=20,\n",
    "    width_shift_range=0.2,\n",
    "    height_shift_range=0.2,\n",
    "    shear_range=0.2,\n",
    "    zoom_range=0.2,\n",
    "    horizontal_flip=True,\n",
    "    fill_mode='nearest'\n",
    ")\n",
    "\n",
    "# Function to augment images\n",
    "def augment_images(images, target_count):\n",
    "    augmented_images = []\n",
    "    for image in images:\n",
    "        image = np.expand_dims(image, axis=0)\n",
    "        i = 0\n",
    "        for batch in datagen.flow(image, batch_size=1):\n",
    "            augmented_images.append(batch[0])\n",
    "            i += 1\n",
    "            if i >= target_count:\n",
    "                break\n",
    "    return augmented_images[:target_count]  # Ensure the exact number of images is returned\n",
    "\n",
    "# Upsample underrepresented classes\n",
    "for label in underrepresented_classes:\n",
    "    images = df[df['label'] == label]['processed_image'].tolist()\n",
    "    current_count = len(images)\n",
    "    target_count = 35 - current_count\n",
    "    augmented_images = augment_images(images, target_count)\n",
    "    \n",
    "    # Verify the shapes\n",
    "    for img in augmented_images:\n",
    "        if img.shape != (250, 250, 3):\n",
    "            print(f\"Error: Augmented image has incorrect shape {img.shape}\")\n",
    "    \n",
    "    # Ensure the number of augmented images matches the target count\n",
    "    if len(augmented_images) != target_count:\n",
    "        print(f\"Error: Expected {target_count} augmented images, but got {len(augmented_images)}\")\n",
    "    \n",
    "    augmented_df = pd.DataFrame({'processed_image': augmented_images, 'label': [label] * target_count})\n",
    "    df = pd.concat([df, augmented_df], ignore_index=True)\n",
    "\n",
    "print(df['label'].value_counts())\n",
    "print"
   ]
  },
  {
   "cell_type": "code",
   "execution_count": 10,
   "id": "59a89f5f",
   "metadata": {},
   "outputs": [
    {
     "data": {
      "text/plain": [
       "True"
      ]
     },
     "execution_count": 10,
     "metadata": {},
     "output_type": "execute_result"
    }
   ],
   "source": [
    "(df['label'].value_counts() == 35).all()"
   ]
  },
  {
   "cell_type": "code",
   "execution_count": 12,
   "id": "503ef049",
   "metadata": {},
   "outputs": [],
   "source": [
    "# df.to_csv('upsampled_np_arryed_images.csv', index=False)"
   ]
  },
  {
   "cell_type": "code",
   "execution_count": 13,
   "id": "d8d009cb",
   "metadata": {},
   "outputs": [],
   "source": [
    "# Save the 'processed_image' column to a .npy file\n",
    "np.save('processed_images.npy', df['processed_image'].values)"
   ]
  },
  {
   "cell_type": "code",
   "execution_count": 32,
   "id": "88c43327",
   "metadata": {},
   "outputs": [],
   "source": [
    "# Create a dictionary to store the first non-NaN 'attributes' value for each label\n",
    "attributes_dict = {}\n",
    "\n",
    "for label in df['label'].unique():\n",
    "    # Get the first non-NaN 'attributes' value for the current label\n",
    "    first_non_nan = df[df['label'] == label]['attributes'].dropna().iloc[0]\n",
    "    attributes_dict[label] = first_non_nan\n",
    "\n",
    "# Function to fill NaN values in 'attributes' column based on 'label'\n",
    "def fill_nan_attributes(row):\n",
    "    if np.isnan(row['attributes']).any():\n",
    "        return attributes_dict[row['label']]\n",
    "    else:\n",
    "        return row['attributes']\n",
    "\n",
    "\n",
    "df['attributes'] = df.apply(fill_nan_attributes, axis=1)"
   ]
  },
  {
   "cell_type": "code",
   "execution_count": 53,
   "id": "d98e0222",
   "metadata": {},
   "outputs": [],
   "source": [
    "np.save('upsampled_attributes.npy', df['attributes'].values)"
   ]
  }
 ],
 "metadata": {
  "kernelspec": {
   "display_name": "Python 3 (ipykernel)",
   "language": "python",
   "name": "python3"
  },
  "language_info": {
   "codemirror_mode": {
    "name": "ipython",
    "version": 3
   },
   "file_extension": ".py",
   "mimetype": "text/x-python",
   "name": "python",
   "nbconvert_exporter": "python",
   "pygments_lexer": "ipython3",
   "version": "3.11.5"
  }
 },
 "nbformat": 4,
 "nbformat_minor": 5
}
