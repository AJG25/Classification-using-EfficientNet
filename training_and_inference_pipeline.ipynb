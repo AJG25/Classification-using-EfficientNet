{
  "cells": [
    {
      "cell_type": "code",
      "execution_count": null,
      "metadata": {
        "colab": {
          "base_uri": "https://localhost:8080/"
        },
        "id": "-gAJuzMY4ffU",
        "outputId": "002945b1-8314-4858-be23-b96bfa53cb01"
      },
      "outputs": [],
      "source": [
        "from google.colab import drive\n",
        "drive.mount('/content/drive')"
      ]
    },
    {
      "cell_type": "code",
      "execution_count": 2,
      "metadata": {
        "colab": {
          "base_uri": "https://localhost:8080/"
        },
        "id": "Y08lBnfhZ4KL",
        "outputId": "88d73dbd-5aa0-4f8d-9323-dbe17a176282"
      },
      "outputs": [
        {
          "name": "stdout",
          "output_type": "stream",
          "text": [
            "Using device: cpu\n"
          ]
        }
      ],
      "source": [
        "import os\n",
        "import numpy as np\n",
        "import pandas as pd\n",
        "from PIL import Image\n",
        "from sklearn.model_selection import train_test_split\n",
        "from torch.utils.data import Dataset, DataLoader\n",
        "import torch\n",
        "import torch.nn as nn\n",
        "import torch.optim as optim\n",
        "from torchvision import transforms\n",
        "import timm\n",
        "from torch.optim.lr_scheduler import CosineAnnealingLR\n",
        "from torch.cuda.amp import GradScaler, autocast\n",
        "\n",
        "\n",
        "from torch.optim.lr_scheduler import CosineAnnealingLR\n",
        "from torch.cuda.amp import GradScaler, autocast\n",
        "\n",
        "device = torch.device(\"cuda\" if torch.cuda.is_available() else \"cpu\") # checks if we're using cuda\n",
        "print(f\"Using device: {device}\")"
      ]
    },
    {
      "cell_type": "code",
      "execution_count": null,
      "metadata": {
        "id": "OhSznVFZdp4c"
      },
      "outputs": [],
      "source": [
        "import numpy as np\n",
        "attributes = np.load('data/attributes.npy')  # Shape:(200, n_attributes)\n",
        "\n",
        "import torch\n",
        "attributes_tensor = torch.tensor(attributes, dtype=torch.float32)\n"
      ]
    },
    {
      "cell_type": "code",
      "execution_count": 4,
      "metadata": {
        "colab": {
          "base_uri": "https://localhost:8080/",
          "height": 173,
          "referenced_widgets": [
            "d63a1e8a2ce448e0ada8cb1c154dd4b5",
            "706f130aa64342a0a739b4273c980684",
            "ef074ba9d34f4132b2dd82a963fb86a7",
            "9ff969ffa6564e4cbedf43b7c4bb9247",
            "a576fd396fec4d9fa02a9dc42941c9ec",
            "47078ee71c834adfad1f2f37e73b8cdc",
            "9364e4c7c3094ad9af0c92eeee9afd36",
            "9731b197a7bc43e29c0272c2f4a4f433",
            "f6cb9f8b732d479b9764ad1440dcf18d",
            "7aa85f6c67b548738bf0679189bb3625",
            "8569151dd44e4f7888c90534fc0f300e"
          ]
        },
        "id": "FJ0KyfAxd5YF",
        "outputId": "90ecfaf6-d21a-4a12-955b-d78cd248180c"
      },
      "outputs": [
        {
          "name": "stderr",
          "output_type": "stream",
          "text": [
            "/usr/local/lib/python3.10/dist-packages/huggingface_hub/utils/_auth.py:94: UserWarning: \n",
            "The secret `HF_TOKEN` does not exist in your Colab secrets.\n",
            "To authenticate with the Hugging Face Hub, create a token in your settings tab (https://huggingface.co/settings/tokens), set it as secret in your Google Colab and restart your session.\n",
            "You will be able to reuse this secret in all of your notebooks.\n",
            "Please note that authentication is recommended but still optional to access public models or datasets.\n",
            "  warnings.warn(\n"
          ]
        },
        {
          "data": {
            "application/vnd.jupyter.widget-view+json": {
              "model_id": "d63a1e8a2ce448e0ada8cb1c154dd4b5",
              "version_major": 2,
              "version_minor": 0
            },
            "text/plain": [
              "model.safetensors:   0%|          | 0.00/36.8M [00:00<?, ?B/s]"
            ]
          },
          "metadata": {},
          "output_type": "display_data"
        }
      ],
      "source": [
        "import timm\n",
        "import torch.nn as nn\n",
        "\n",
        "# pre-trained EfficientNet-B2\n",
        "base_model = timm.create_model('efficientnet_b2', pretrained=True, num_classes=0)\n",
        "base_model_output_dim = base_model.num_features  # Output dimension\n",
        "\n",
        "attribute_dim = attributes_tensor.shape[1]\n",
        "\n",
        "# The model\n",
        "class CustomClassifier(nn.Module):\n",
        "    def __init__(self, base_model, base_output_dim, attribute_dim, num_classes):\n",
        "        super(CustomClassifier, self).__init__()\n",
        "        self.base_model = base_model\n",
        "        self.attribute_layer = nn.Linear(attribute_dim, 128)\n",
        "        self.fc = nn.Linear(base_output_dim + 128, num_classes)\n",
        "\n",
        "    def forward(self, x, attributes):\n",
        "        # EfficientNet image features\n",
        "        x = self.base_model(x)\n",
        "\n",
        "        # attribute features\n",
        "        attr_features = self.attribute_layer(attributes)\n",
        "\n",
        "        # combine image features and attributes\n",
        "        combined_features = torch.cat([x, attr_features], dim=1)\n",
        "\n",
        "        # classify\n",
        "        output = self.fc(combined_features)\n",
        "        return output\n",
        "\n",
        "num_classes = 200 # number of out classes\n",
        "model = CustomClassifier(base_model, base_model_output_dim, attribute_dim, num_classes)\n",
        "model = model.to(device)\n"
      ]
    },
    {
      "cell_type": "code",
      "execution_count": 5,
      "metadata": {
        "id": "aFUqMF5ReGIY"
      },
      "outputs": [],
      "source": [
        "class BirdDatasetWithAttributes(Dataset):\n",
        "    def __init__(self, dataframe, base_dir, attributes, transform=None):\n",
        "        self.dataframe = dataframe\n",
        "        self.base_dir = base_dir\n",
        "        self.attributes = attributes\n",
        "        self.transform = transform\n",
        "\n",
        "    def __len__(self):\n",
        "        return len(self.dataframe)\n",
        "\n",
        "    def __getitem__(self, idx):\n",
        "        img_path = os.path.join(self.base_dir, self.dataframe.iloc[idx]['image_path'])\n",
        "        label = self.dataframe.iloc[idx]['label'] - 1\n",
        "        image = Image.open(img_path).convert(\"RGB\")\n",
        "        if self.transform:\n",
        "            image = self.transform(image)\n",
        "\n",
        "        # get label associated attributes\n",
        "        attribute = self.attributes[label]\n",
        "        return image, label, attribute\n"
      ]
    },
    {
      "cell_type": "code",
      "execution_count": null,
      "metadata": {
        "colab": {
          "base_uri": "https://localhost:8080/"
        },
        "id": "Z0MSKY9zeLFD",
        "outputId": "b70f921a-c99c-42b4-8385-d12d4c4da2d8"
      },
      "outputs": [
        {
          "name": "stderr",
          "output_type": "stream",
          "text": [
            "/usr/local/lib/python3.10/dist-packages/torch/utils/data/dataloader.py:617: UserWarning: This DataLoader will create 4 worker processes in total. Our suggested max number of worker in current system is 2, which is smaller than what this DataLoader is going to create. Please be aware that excessive worker creation might get DataLoader running slow or even freeze, lower the worker number to avoid potential slowness/freeze if necessary.\n",
            "  warnings.warn(\n"
          ]
        }
      ],
      "source": [
        "df = pd.read_csv(\"train_images.csv\")\n",
        "df['image_path'] = df['image_path'].map(lambda x: str(x)[1:])\n",
        "# augmentation\n",
        "train_transforms = transforms.Compose([\n",
        "    transforms.Resize((260, 260)),           # input size\n",
        "    transforms.RandomHorizontalFlip(),\n",
        "    transforms.RandomRotation(15),\n",
        "    transforms.ColorJitter(brightness=0.2, contrast=0.2, saturation=0.2, hue=0.1),\n",
        "    transforms.RandomResizedCrop(260, scale=(0.8, 1.0)),\n",
        "    transforms.ToTensor(),\n",
        "    transforms.Normalize([0.485, 0.456, 0.406], [0.229, 0.224, 0.225])\n",
        "])\n",
        "\n",
        "# validationset transformations, don't change too much\n",
        "val_transforms = transforms.Compose([\n",
        "    transforms.Resize((260, 260)),\n",
        "    transforms.ToTensor(),\n",
        "    transforms.Normalize([0.485, 0.456, 0.406], [0.229, 0.224, 0.225])\n",
        "])\n",
        "\n",
        "train_df, val_df = train_test_split(df, test_size=0.2, stratify= df['label'], random_state=42)\n",
        "train_dataset = BirdDatasetWithAttributes(train_df, \"/content/drive/MyDrive/UvA IS/AML/train_images\", attributes_tensor, transform=train_transforms)\n",
        "val_dataset = BirdDatasetWithAttributes(val_df, \"/content/drive/MyDrive/UvA IS/AML/train_images\", attributes_tensor, transform=val_transforms)\n",
        "\n",
        "train_loader = DataLoader(train_dataset, batch_size=32, shuffle=True, num_workers=4)\n",
        "val_loader = DataLoader(val_dataset, batch_size=32, shuffle=False, num_workers=4)\n"
      ]
    },
    {
      "cell_type": "code",
      "execution_count": 7,
      "metadata": {
        "id": "5reGtT7pdTG0"
      },
      "outputs": [],
      "source": [
        "criterion = nn.CrossEntropyLoss()\n",
        "\n",
        "optimizer = optim.AdamW(model.parameters(), lr=1e-4, weight_decay=1e-4)\n",
        "\n",
        "scheduler = CosineAnnealingLR(optimizer, T_max=10)"
      ]
    },
    {
      "cell_type": "code",
      "execution_count": 8,
      "metadata": {
        "id": "Dno1vSw1dVeS"
      },
      "outputs": [],
      "source": [
        "def train_one_epoch(model, loader, criterion, optimizer, device):\n",
        "    model.train()\n",
        "    running_loss = 0.0\n",
        "    correct = 0\n",
        "    total = 0\n",
        "\n",
        "    for images, labels, attributes in loader:\n",
        "        images, labels, attributes = images.to(device), labels.to(device), attributes.to(device)\n",
        "\n",
        "        optimizer.zero_grad()\n",
        "        outputs = model(images, attributes)\n",
        "        loss = criterion(outputs, labels)\n",
        "        loss.backward()\n",
        "        optimizer.step()\n",
        "\n",
        "        running_loss += loss.item()\n",
        "        _, predicted = outputs.max(1)\n",
        "        total += labels.size(0)\n",
        "        correct += predicted.eq(labels).sum().item()\n",
        "\n",
        "    return running_loss / len(loader), 100. * correct / total\n",
        "\n",
        "def validate(model, loader, criterion, device):\n",
        "    model.eval()\n",
        "    running_loss = 0.0\n",
        "    correct = 0\n",
        "    total = 0\n",
        "\n",
        "    with torch.no_grad():\n",
        "        for images, labels, attributes in loader:\n",
        "            images, labels, attributes = images.to(device), labels.to(device), attributes.to(device)\n",
        "            outputs = model(images, attributes)\n",
        "            loss = criterion(outputs, labels)\n",
        "\n",
        "            running_loss += loss.item()\n",
        "            _, predicted = outputs.max(1)\n",
        "            total += labels.size(0)\n",
        "            correct += predicted.eq(labels).sum().item()\n",
        "\n",
        "    return running_loss / len(loader), 100. * correct / total\n"
      ]
    },
    {
      "cell_type": "code",
      "execution_count": 9,
      "metadata": {
        "colab": {
          "base_uri": "https://localhost:8080/"
        },
        "id": "BDuZJrdhDlR6",
        "outputId": "67d4ab46-f405-4aff-8a34-744f4771204e"
      },
      "outputs": [
        {
          "name": "stdout",
          "output_type": "stream",
          "text": [
            "Epoch 1/15\n",
            "Train Loss: 5.0326, Train Acc: 8.09%\n",
            "Val Loss: 4.4108, Val Acc: 22.26%\n",
            "Saved Best Model!\n",
            "Epoch 2/15\n",
            "Train Loss: 3.8731, Train Acc: 33.03%\n",
            "Val Loss: 3.3571, Val Acc: 38.17%\n",
            "Saved Best Model!\n",
            "Epoch 3/15\n",
            "Train Loss: 2.8609, Train Acc: 47.83%\n",
            "Val Loss: 2.5233, Val Acc: 48.85%\n",
            "Saved Best Model!\n",
            "Epoch 4/15\n",
            "Train Loss: 2.1489, Train Acc: 60.67%\n",
            "Val Loss: 2.0876, Val Acc: 56.87%\n",
            "Saved Best Model!\n",
            "Epoch 5/15\n",
            "Train Loss: 1.7085, Train Acc: 69.81%\n",
            "Val Loss: 1.7827, Val Acc: 62.34%\n",
            "Saved Best Model!\n",
            "Epoch 6/15\n",
            "Train Loss: 1.3954, Train Acc: 76.43%\n",
            "Val Loss: 1.6590, Val Acc: 66.28%\n",
            "Saved Best Model!\n",
            "Epoch 7/15\n",
            "Train Loss: 1.1944, Train Acc: 82.80%\n",
            "Val Loss: 1.5323, Val Acc: 67.81%\n",
            "Saved Best Model!\n",
            "Epoch 8/15\n",
            "Train Loss: 1.0957, Train Acc: 85.80%\n",
            "Val Loss: 1.4781, Val Acc: 69.21%\n",
            "Saved Best Model!\n",
            "Epoch 9/15\n",
            "Train Loss: 0.9926, Train Acc: 88.03%\n",
            "Val Loss: 1.4515, Val Acc: 69.34%\n",
            "Saved Best Model!\n",
            "Epoch 10/15\n",
            "Train Loss: 0.9781, Train Acc: 88.44%\n",
            "Val Loss: 1.4528, Val Acc: 70.23%\n",
            "Saved Best Model!\n",
            "Epoch 11/15\n",
            "Train Loss: 0.9758, Train Acc: 88.69%\n",
            "Val Loss: 1.4488, Val Acc: 70.87%\n",
            "Saved Best Model!\n",
            "Epoch 12/15\n",
            "Train Loss: 0.9803, Train Acc: 88.34%\n",
            "Val Loss: 1.4529, Val Acc: 69.85%\n",
            "Epoch 13/15\n",
            "Train Loss: 0.9495, Train Acc: 88.54%\n",
            "Val Loss: 1.4189, Val Acc: 70.99%\n",
            "Saved Best Model!\n",
            "Epoch 14/15\n",
            "Train Loss: 0.9061, Train Acc: 89.55%\n",
            "Val Loss: 1.4021, Val Acc: 71.12%\n",
            "Saved Best Model!\n",
            "Epoch 15/15\n",
            "Train Loss: 0.8389, Train Acc: 90.45%\n",
            "Val Loss: 1.3090, Val Acc: 71.50%\n",
            "Saved Best Model!\n"
          ]
        }
      ],
      "source": [
        "num_epochs = 15\n",
        "best_val_acc = 0.0\n",
        "\n",
        "for epoch in range(num_epochs):\n",
        "    train_loss, train_acc = train_one_epoch(model, train_loader, criterion, optimizer, device)\n",
        "    val_loss, val_acc = validate(model, val_loader, criterion, device)\n",
        "\n",
        "    print(f\"Epoch {epoch+1}/{num_epochs}\")\n",
        "    print(f\"Train Loss: {train_loss:.4f}, Train Acc: {train_acc:.2f}%\")\n",
        "    print(f\"Val Loss: {val_loss:.4f}, Val Acc: {val_acc:.2f}%\")\n",
        "\n",
        "    scheduler.step()\n",
        "\n",
        "    # if step produces new best val_acc, save model\n",
        "    if val_acc > best_val_acc:\n",
        "        best_val_acc = val_acc\n",
        "        torch.save(model.state_dict(), \"best_efficientnet_with_attributes.pth\")\n",
        "        print(\"Saved Best Model!\")\n",
        "\n"
      ]
    },
    {
      "cell_type": "code",
      "execution_count": 60,
      "metadata": {
        "id": "GULLvuwoFtgn"
      },
      "outputs": [],
      "source": [
        "#prediction with giving test data mean attribute\n",
        "mean_attribute = torch.mean(attributes_tensor, dim=0)\n",
        "\n",
        "class TestDatasetWithAttributes(Dataset):\n",
        "    def __init__(self, dataframe, base_dir, mean_attribute, transform=None):\n",
        "        self.dataframe = dataframe\n",
        "        self.base_dir = base_dir\n",
        "        self.mean_attribute = mean_attribute  # smart move right here\n",
        "        self.transform = transform\n",
        "\n",
        "    def __len__(self):\n",
        "        return len(self.dataframe)\n",
        "\n",
        "    def __getitem__(self, idx):\n",
        "        img_path = os.path.join(self.base_dir, self.dataframe.iloc[idx]['image_path'])\n",
        "        image = Image.open(img_path).convert(\"RGB\")\n",
        "        if self.transform:\n",
        "            image = self.transform(image)\n",
        "        # use mean attribute\n",
        "        attribute = self.mean_attribute\n",
        "        return image, attribute"
      ]
    },
    {
      "cell_type": "code",
      "execution_count": 78,
      "metadata": {
        "id": "ymEEWWCbNDqf"
      },
      "outputs": [],
      "source": [
        "#prediction with two step predictions: first predict attributes, then predict label\n",
        "\n",
        "class TestDatasetWithPredictedAttributes(Dataset):\n",
        "    def __init__(self, dataframe, base_dir, transform=None): # this one doesn't have attributes\n",
        "        self.dataframe = dataframe\n",
        "        self.base_dir = base_dir\n",
        "        self.transform = transform\n",
        "\n",
        "    def __len__(self):\n",
        "        return len(self.dataframe)\n",
        "\n",
        "    def __getitem__(self, idx):\n",
        "        img_path = os.path.join(self.base_dir, self.dataframe.iloc[idx]['image_path'])\n",
        "        image = Image.open(img_path).convert(\"RGB\")\n",
        "        if self.transform:\n",
        "            image = self.transform(image)\n",
        "        return image, idx"
      ]
    },
    {
      "cell_type": "code",
      "execution_count": null,
      "metadata": {
        "colab": {
          "base_uri": "https://localhost:8080/"
        },
        "id": "6esSEvkKFb86",
        "outputId": "f5ca4e91-8ac6-4003-b63e-e09af6b72512"
      },
      "outputs": [
        {
          "name": "stderr",
          "output_type": "stream",
          "text": [
            "/usr/local/lib/python3.10/dist-packages/torch/utils/data/dataloader.py:617: UserWarning: This DataLoader will create 4 worker processes in total. Our suggested max number of worker in current system is 2, which is smaller than what this DataLoader is going to create. Please be aware that excessive worker creation might get DataLoader running slow or even freeze, lower the worker number to avoid potential slowness/freeze if necessary.\n",
            "  warnings.warn(\n"
          ]
        }
      ],
      "source": [
        "test_df = pd.read_csv(\"test_images_path.csv\")\n",
        "test_df['image_path'] = test_df['image_path'].map(lambda x: str(x)[1:])\n",
        "test_dataset = TestDatasetWithPredictedAttributes(\n",
        "    dataframe=test_df,\n",
        "    base_dir=\"/content/drive/MyDrive/AML/test_images\",\n",
        "    transform=val_transforms\n",
        ")\n",
        "test_loader = DataLoader(test_dataset, batch_size=32, shuffle=False, num_workers=4)"
      ]
    },
    {
      "cell_type": "code",
      "execution_count": null,
      "metadata": {
        "colab": {
          "base_uri": "https://localhost:8080/",
          "height": 211
        },
        "collapsed": true,
        "id": "SM4hpn_NNTtD",
        "outputId": "c07b2def-f21b-4990-e6f2-189e6d651b1c"
      },
      "outputs": [],
      "source": [
        "#two-step predictions\n",
        "model.load_state_dict(torch.load(\"best_efficientnet_with_attributes.pth\"))\n",
        "model.eval()\n",
        "predicted_attributes = []\n",
        "predicted_indices = []\n",
        "\n",
        "with torch.no_grad():\n",
        "    for images, indices in test_loader:\n",
        "        images = images.to(device)\n",
        "\n",
        "        # send and get image features only\n",
        "        outputs = model.base_model(images)\n",
        "        _, predicted = outputs.max(1)\n",
        "\n",
        "        # predict attributes based on image features\n",
        "        batch_attributes = attributes_tensor[predicted.cpu()]  # Shape: [batch_size, attribute_dim]\n",
        "        predicted_attributes.append(batch_attributes)\n",
        "        predicted_indices.extend(indices.numpy())\n",
        "\n",
        "# combine\n",
        "predicted_attributes = torch.cat(predicted_attributes, dim=0)  # Shape: [num_test_samples, attribute_dim]\n",
        "\n",
        "\n",
        "# predict label\n",
        "predictions = []\n",
        "with torch.no_grad():\n",
        "    for images, _, indices in test_loader:\n",
        "        images = images.to(device)\n",
        "        attributes = predicted_attributes[indices]  # use predicted\n",
        "        outputs = model(images, attributes)\n",
        "        _, predicted = outputs.max(1)\n",
        "        predictions.extend(predicted.cpu().numpy())\n",
        "\n",
        "submission = pd.DataFrame({\n",
        "    \"id\": predictions,\n",
        "    \"label\": [p + 1 for p in predictions]\n",
        "})\n",
        "submission.to_csv(\"outputs/submission_0.csv\", index=False)\n",
        "print(\"Submission saved\")\n"
      ]
    },
    {
      "cell_type": "code",
      "execution_count": null,
      "metadata": {
        "colab": {
          "base_uri": "https://localhost:8080/"
        },
        "id": "SaBsmKGcastA",
        "outputId": "93cd45d8-083f-439a-fd6a-58f115d163a1"
      },
      "outputs": [
        {
          "name": "stderr",
          "output_type": "stream",
          "text": [
            "<ipython-input-56-f19b389d0edb>:1: FutureWarning: You are using `torch.load` with `weights_only=False` (the current default value), which uses the default pickle module implicitly. It is possible to construct malicious pickle data which will execute arbitrary code during unpickling (See https://github.com/pytorch/pytorch/blob/main/SECURITY.md#untrusted-models for more details). In a future release, the default value for `weights_only` will be flipped to `True`. This limits the functions that could be executed during unpickling. Arbitrary objects will no longer be allowed to be loaded via this mode unless they are explicitly allowlisted by the user via `torch.serialization.add_safe_globals`. We recommend you start setting `weights_only=True` for any use case where you don't have full control of the loaded file. Please open an issue on GitHub for any issues related to this experimental feature.\n",
            "  model.load_state_dict(torch.load(\"best_efficientnet_with_attributes.pth\"))\n",
            "/usr/local/lib/python3.10/dist-packages/torch/utils/data/dataloader.py:617: UserWarning: This DataLoader will create 4 worker processes in total. Our suggested max number of worker in current system is 2, which is smaller than what this DataLoader is going to create. Please be aware that excessive worker creation might get DataLoader running slow or even freeze, lower the worker number to avoid potential slowness/freeze if necessary.\n",
            "  warnings.warn(\n"
          ]
        },
        {
          "name": "stdout",
          "output_type": "stream",
          "text": [
            "Submission saved\n"
          ]
        }
      ],
      "source": [
        "# predict with mean attribute\n",
        "model.load_state_dict(torch.load(\"best_efficientnet_with_attributes.pth\"))\n",
        "model.eval()\n",
        "predictions = []\n",
        "row_ids = []\n",
        "\n",
        "with torch.no_grad():\n",
        "    for images, row_id_batch in test_loader:\n",
        "        images = images.to(device)\n",
        "        attributes = mean_attribute.to(device).unsqueeze(0).expand(images.size(0), -1)\n",
        "        outputs = model(images, attributes)\n",
        "        _, predicted = outputs.max(1)\n",
        "\n",
        "        predictions.extend(predicted.cpu().numpy())\n",
        "        row_ids.extend(row_id_batch)\n",
        "\n",
        "submission = pd.DataFrame({\n",
        "    \"id\": row_ids,\n",
        "    \"label\": [p + 1 for p in predictions]\n",
        "})\n",
        "submission.to_csv('outputs/submission_0.csv', index=False)\n",
        "print(\"Submission saved\")"
      ]
    }
  ],
  "metadata": {
    "accelerator": "GPU",
    "colab": {
      "gpuType": "T4",
      "provenance": []
    },
    "kernelspec": {
      "display_name": "Python 3",
      "name": "python3"
    },
    "language_info": {
      "name": "python"
    },
    "widgets": {
      "application/vnd.jupyter.widget-state+json": {
        "47078ee71c834adfad1f2f37e73b8cdc": {
          "model_module": "@jupyter-widgets/base",
          "model_module_version": "1.2.0",
          "model_name": "LayoutModel",
          "state": {
            "_model_module": "@jupyter-widgets/base",
            "_model_module_version": "1.2.0",
            "_model_name": "LayoutModel",
            "_view_count": null,
            "_view_module": "@jupyter-widgets/base",
            "_view_module_version": "1.2.0",
            "_view_name": "LayoutView",
            "align_content": null,
            "align_items": null,
            "align_self": null,
            "border": null,
            "bottom": null,
            "display": null,
            "flex": null,
            "flex_flow": null,
            "grid_area": null,
            "grid_auto_columns": null,
            "grid_auto_flow": null,
            "grid_auto_rows": null,
            "grid_column": null,
            "grid_gap": null,
            "grid_row": null,
            "grid_template_areas": null,
            "grid_template_columns": null,
            "grid_template_rows": null,
            "height": null,
            "justify_content": null,
            "justify_items": null,
            "left": null,
            "margin": null,
            "max_height": null,
            "max_width": null,
            "min_height": null,
            "min_width": null,
            "object_fit": null,
            "object_position": null,
            "order": null,
            "overflow": null,
            "overflow_x": null,
            "overflow_y": null,
            "padding": null,
            "right": null,
            "top": null,
            "visibility": null,
            "width": null
          }
        },
        "706f130aa64342a0a739b4273c980684": {
          "model_module": "@jupyter-widgets/controls",
          "model_module_version": "1.5.0",
          "model_name": "HTMLModel",
          "state": {
            "_dom_classes": [],
            "_model_module": "@jupyter-widgets/controls",
            "_model_module_version": "1.5.0",
            "_model_name": "HTMLModel",
            "_view_count": null,
            "_view_module": "@jupyter-widgets/controls",
            "_view_module_version": "1.5.0",
            "_view_name": "HTMLView",
            "description": "",
            "description_tooltip": null,
            "layout": "IPY_MODEL_47078ee71c834adfad1f2f37e73b8cdc",
            "placeholder": "​",
            "style": "IPY_MODEL_9364e4c7c3094ad9af0c92eeee9afd36",
            "value": "model.safetensors: 100%"
          }
        },
        "7aa85f6c67b548738bf0679189bb3625": {
          "model_module": "@jupyter-widgets/base",
          "model_module_version": "1.2.0",
          "model_name": "LayoutModel",
          "state": {
            "_model_module": "@jupyter-widgets/base",
            "_model_module_version": "1.2.0",
            "_model_name": "LayoutModel",
            "_view_count": null,
            "_view_module": "@jupyter-widgets/base",
            "_view_module_version": "1.2.0",
            "_view_name": "LayoutView",
            "align_content": null,
            "align_items": null,
            "align_self": null,
            "border": null,
            "bottom": null,
            "display": null,
            "flex": null,
            "flex_flow": null,
            "grid_area": null,
            "grid_auto_columns": null,
            "grid_auto_flow": null,
            "grid_auto_rows": null,
            "grid_column": null,
            "grid_gap": null,
            "grid_row": null,
            "grid_template_areas": null,
            "grid_template_columns": null,
            "grid_template_rows": null,
            "height": null,
            "justify_content": null,
            "justify_items": null,
            "left": null,
            "margin": null,
            "max_height": null,
            "max_width": null,
            "min_height": null,
            "min_width": null,
            "object_fit": null,
            "object_position": null,
            "order": null,
            "overflow": null,
            "overflow_x": null,
            "overflow_y": null,
            "padding": null,
            "right": null,
            "top": null,
            "visibility": null,
            "width": null
          }
        },
        "8569151dd44e4f7888c90534fc0f300e": {
          "model_module": "@jupyter-widgets/controls",
          "model_module_version": "1.5.0",
          "model_name": "DescriptionStyleModel",
          "state": {
            "_model_module": "@jupyter-widgets/controls",
            "_model_module_version": "1.5.0",
            "_model_name": "DescriptionStyleModel",
            "_view_count": null,
            "_view_module": "@jupyter-widgets/base",
            "_view_module_version": "1.2.0",
            "_view_name": "StyleView",
            "description_width": ""
          }
        },
        "9364e4c7c3094ad9af0c92eeee9afd36": {
          "model_module": "@jupyter-widgets/controls",
          "model_module_version": "1.5.0",
          "model_name": "DescriptionStyleModel",
          "state": {
            "_model_module": "@jupyter-widgets/controls",
            "_model_module_version": "1.5.0",
            "_model_name": "DescriptionStyleModel",
            "_view_count": null,
            "_view_module": "@jupyter-widgets/base",
            "_view_module_version": "1.2.0",
            "_view_name": "StyleView",
            "description_width": ""
          }
        },
        "9731b197a7bc43e29c0272c2f4a4f433": {
          "model_module": "@jupyter-widgets/base",
          "model_module_version": "1.2.0",
          "model_name": "LayoutModel",
          "state": {
            "_model_module": "@jupyter-widgets/base",
            "_model_module_version": "1.2.0",
            "_model_name": "LayoutModel",
            "_view_count": null,
            "_view_module": "@jupyter-widgets/base",
            "_view_module_version": "1.2.0",
            "_view_name": "LayoutView",
            "align_content": null,
            "align_items": null,
            "align_self": null,
            "border": null,
            "bottom": null,
            "display": null,
            "flex": null,
            "flex_flow": null,
            "grid_area": null,
            "grid_auto_columns": null,
            "grid_auto_flow": null,
            "grid_auto_rows": null,
            "grid_column": null,
            "grid_gap": null,
            "grid_row": null,
            "grid_template_areas": null,
            "grid_template_columns": null,
            "grid_template_rows": null,
            "height": null,
            "justify_content": null,
            "justify_items": null,
            "left": null,
            "margin": null,
            "max_height": null,
            "max_width": null,
            "min_height": null,
            "min_width": null,
            "object_fit": null,
            "object_position": null,
            "order": null,
            "overflow": null,
            "overflow_x": null,
            "overflow_y": null,
            "padding": null,
            "right": null,
            "top": null,
            "visibility": null,
            "width": null
          }
        },
        "9ff969ffa6564e4cbedf43b7c4bb9247": {
          "model_module": "@jupyter-widgets/controls",
          "model_module_version": "1.5.0",
          "model_name": "HTMLModel",
          "state": {
            "_dom_classes": [],
            "_model_module": "@jupyter-widgets/controls",
            "_model_module_version": "1.5.0",
            "_model_name": "HTMLModel",
            "_view_count": null,
            "_view_module": "@jupyter-widgets/controls",
            "_view_module_version": "1.5.0",
            "_view_name": "HTMLView",
            "description": "",
            "description_tooltip": null,
            "layout": "IPY_MODEL_7aa85f6c67b548738bf0679189bb3625",
            "placeholder": "​",
            "style": "IPY_MODEL_8569151dd44e4f7888c90534fc0f300e",
            "value": " 36.8M/36.8M [00:00&lt;00:00, 75.4MB/s]"
          }
        },
        "a576fd396fec4d9fa02a9dc42941c9ec": {
          "model_module": "@jupyter-widgets/base",
          "model_module_version": "1.2.0",
          "model_name": "LayoutModel",
          "state": {
            "_model_module": "@jupyter-widgets/base",
            "_model_module_version": "1.2.0",
            "_model_name": "LayoutModel",
            "_view_count": null,
            "_view_module": "@jupyter-widgets/base",
            "_view_module_version": "1.2.0",
            "_view_name": "LayoutView",
            "align_content": null,
            "align_items": null,
            "align_self": null,
            "border": null,
            "bottom": null,
            "display": null,
            "flex": null,
            "flex_flow": null,
            "grid_area": null,
            "grid_auto_columns": null,
            "grid_auto_flow": null,
            "grid_auto_rows": null,
            "grid_column": null,
            "grid_gap": null,
            "grid_row": null,
            "grid_template_areas": null,
            "grid_template_columns": null,
            "grid_template_rows": null,
            "height": null,
            "justify_content": null,
            "justify_items": null,
            "left": null,
            "margin": null,
            "max_height": null,
            "max_width": null,
            "min_height": null,
            "min_width": null,
            "object_fit": null,
            "object_position": null,
            "order": null,
            "overflow": null,
            "overflow_x": null,
            "overflow_y": null,
            "padding": null,
            "right": null,
            "top": null,
            "visibility": null,
            "width": null
          }
        },
        "d63a1e8a2ce448e0ada8cb1c154dd4b5": {
          "model_module": "@jupyter-widgets/controls",
          "model_module_version": "1.5.0",
          "model_name": "HBoxModel",
          "state": {
            "_dom_classes": [],
            "_model_module": "@jupyter-widgets/controls",
            "_model_module_version": "1.5.0",
            "_model_name": "HBoxModel",
            "_view_count": null,
            "_view_module": "@jupyter-widgets/controls",
            "_view_module_version": "1.5.0",
            "_view_name": "HBoxView",
            "box_style": "",
            "children": [
              "IPY_MODEL_706f130aa64342a0a739b4273c980684",
              "IPY_MODEL_ef074ba9d34f4132b2dd82a963fb86a7",
              "IPY_MODEL_9ff969ffa6564e4cbedf43b7c4bb9247"
            ],
            "layout": "IPY_MODEL_a576fd396fec4d9fa02a9dc42941c9ec"
          }
        },
        "ef074ba9d34f4132b2dd82a963fb86a7": {
          "model_module": "@jupyter-widgets/controls",
          "model_module_version": "1.5.0",
          "model_name": "FloatProgressModel",
          "state": {
            "_dom_classes": [],
            "_model_module": "@jupyter-widgets/controls",
            "_model_module_version": "1.5.0",
            "_model_name": "FloatProgressModel",
            "_view_count": null,
            "_view_module": "@jupyter-widgets/controls",
            "_view_module_version": "1.5.0",
            "_view_name": "ProgressView",
            "bar_style": "success",
            "description": "",
            "description_tooltip": null,
            "layout": "IPY_MODEL_9731b197a7bc43e29c0272c2f4a4f433",
            "max": 36757206,
            "min": 0,
            "orientation": "horizontal",
            "style": "IPY_MODEL_f6cb9f8b732d479b9764ad1440dcf18d",
            "value": 36757206
          }
        },
        "f6cb9f8b732d479b9764ad1440dcf18d": {
          "model_module": "@jupyter-widgets/controls",
          "model_module_version": "1.5.0",
          "model_name": "ProgressStyleModel",
          "state": {
            "_model_module": "@jupyter-widgets/controls",
            "_model_module_version": "1.5.0",
            "_model_name": "ProgressStyleModel",
            "_view_count": null,
            "_view_module": "@jupyter-widgets/base",
            "_view_module_version": "1.2.0",
            "_view_name": "StyleView",
            "bar_color": null,
            "description_width": ""
          }
        }
      }
    }
  },
  "nbformat": 4,
  "nbformat_minor": 0
}
